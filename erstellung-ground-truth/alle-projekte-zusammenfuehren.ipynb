{
 "cells": [
  {
   "cell_type": "code",
   "execution_count": 26,
   "metadata": {},
   "outputs": [],
   "source": [
    "# Zelle 1: Importieren der benötigten Bibliotheken\n",
    "import json\n",
    "import os\n",
    "import glob\n",
    "from pathlib import Path"
   ]
  },
  {
   "cell_type": "code",
   "execution_count": 27,
   "metadata": {},
   "outputs": [
    {
     "name": "stdout",
     "output_type": "stream",
     "text": [
      "Gefundene JSON-Dateien: 5\n",
      "- clothingFinal.json\n",
      "- crowdFinal.json\n",
      "- environmentFinal.json\n",
      "- graphicalrepresentationsFinal.json\n",
      "- interactionFinal.json\n"
     ]
    }
   ],
   "source": [
    "# Zelle 2: Definition der Eingabe- und Ausgabepfade\n",
    "# Annahme: Die JSON-Dateien befinden sich im Unterordner \"input_files\"\n",
    "input_dir = \"modified_files_json\"\n",
    "output_dir = \"new_versions_json\"\n",
    "\n",
    "# Erstelle den Ausgabeordner, falls er nicht existiert\n",
    "os.makedirs(output_dir, exist_ok=True)\n",
    "\n",
    "# Liste aller JSON-Dateien im Eingabeordner\n",
    "json_files = glob.glob(os.path.join(input_dir, \"*.json\"))\n",
    "print(f\"Gefundene JSON-Dateien: {len(json_files)}\")\n",
    "for file in json_files:\n",
    "    print(f\"- {os.path.basename(file)}\")\n"
   ]
  },
  {
   "cell_type": "code",
   "execution_count": 28,
   "metadata": {},
   "outputs": [
    {
     "name": "stdout",
     "output_type": "stream",
     "text": [
      "Gefundene Projekte in der ersten Datei: {'keine_merkmale', 'Clothing'}\n"
     ]
    }
   ],
   "source": [
    "# Zelle 3: Hilfsfunktion zum Laden und Überprüfen der JSON-Struktur\n",
    "def load_and_explore_json(file_path):\n",
    "    \"\"\"Lädt eine JSON-Datei und analysiert ihre Struktur\"\"\"\n",
    "    with open(file_path, 'r', encoding='utf-8') as f:\n",
    "        data = json.load(f)\n",
    "    \n",
    "    # Projektnamen identifizieren\n",
    "    projects = set()\n",
    "    if isinstance(data, list):  # Falls die Datei eine Liste von Tasks enthält\n",
    "        for task in data:\n",
    "            for annotation in task.get('annotations', []):\n",
    "                for result in annotation.get('result', []):\n",
    "                    if 'from_name' in result:\n",
    "                        projects.add(result['from_name'])\n",
    "    else:  # Falls die Datei einen einzelnen Task enthält\n",
    "        for annotation in data.get('annotations', []):\n",
    "            for result in annotation.get('result', []):\n",
    "                if 'from_name' in result:\n",
    "                    projects.add(result['from_name'])\n",
    "    \n",
    "    return data, projects\n",
    "\n",
    "# Testen mit der ersten Datei\n",
    "if json_files:\n",
    "    sample_data, projects = load_and_explore_json(json_files[0])\n",
    "    print(f\"Gefundene Projekte in der ersten Datei: {projects}\")\n"
   ]
  },
  {
   "cell_type": "code",
   "execution_count": 29,
   "metadata": {},
   "outputs": [
    {
     "name": "stdout",
     "output_type": "stream",
     "text": [
      "Anzahl der gefundenen Bilder: 308\n"
     ]
    }
   ],
   "source": [
    "# Zelle 4: Hauptfunktion zum Extrahieren der Annotationen aus allen Dateien\n",
    "def extract_annotations_from_files(json_files):\n",
    "    \"\"\"Extrahiert Annotationen aus allen Datei und gibt ein Dictionary mit Bild-zu-Labels-Zuordnung zurück\"\"\"\n",
    "    all_annotations = {}\n",
    "    \n",
    "    for file_path in json_files:\n",
    "        data, _ = load_and_explore_json(file_path)\n",
    "        \n",
    "        # Verarbeiten als Liste oder als einzelnes Objekt\n",
    "        tasks = data if isinstance(data, list) else [data]\n",
    "        \n",
    "        for task in tasks:\n",
    "            # Bildpfad extrahieren\n",
    "            image_path = task.get('data', {}).get('image', '')\n",
    "            if not image_path:\n",
    "                continue\n",
    "                \n",
    "            # Nur den Dateinamen verwenden\n",
    "            image_name = os.path.basename(image_path)\n",
    "            #print(\"image_name vor der Kürzung: \"+image_name)\n",
    "\n",
    "            # Doppelpunkte im image_name durch Unterstriche ersetzen\n",
    "            image_name = image_name.replace(\":\", \"_\")\n",
    "            #print(\"image_name nach der Kürzung: \"+image_name)\n",
    "            \n",
    "            \n",
    "            \n",
    "            # Initialisieren der Annotation für dieses Bild, falls noch nicht vorhanden\n",
    "            if image_name not in all_annotations:\n",
    "                all_annotations[image_name] = {\n",
    "                    'Graphical Representations': [],\n",
    "                    'Clothing': [],\n",
    "                    'Crowd': [],\n",
    "                    'Interaction': [],\n",
    "                    'Environment': []\n",
    "                }\n",
    "            \n",
    "            # Alle Annotationen für dieses Bild durchgehen\n",
    "            for annotation in task.get('annotations', []):\n",
    "                for result in annotation.get('result', []):\n",
    "                    # Projektname und Labels extrahieren\n",
    "                    project_name = result.get('from_name', '')\n",
    "                    choices = result.get('value', {}).get('choices', [])\n",
    "                    \n",
    "                    # \"no_features\" überspringen\n",
    "                    choices = [c for c in choices if c != \"no_features\"]\n",
    "                    \n",
    "                    # Labels zum entsprechenden Projekt hinzufügen\n",
    "                    if project_name in all_annotations[image_name]:\n",
    "                        all_annotations[image_name][project_name].extend(choices)\n",
    "    \n",
    "    # Duplikate entfernen\n",
    "    for image_name, projects in all_annotations.items():\n",
    "        for project_name, labels in projects.items():\n",
    "            all_annotations[image_name][project_name] = list(set(labels))\n",
    "    \n",
    "    return all_annotations\n",
    "\n",
    "# Extrahiere alle Annotationen\n",
    "all_image_annotations = extract_annotations_from_files(json_files)\n",
    "print(f\"Anzahl der gefundenen Bilder: {len(all_image_annotations)}\")\n"
   ]
  },
  {
   "cell_type": "code",
   "execution_count": 30,
   "metadata": {},
   "outputs": [
    {
     "name": "stdout",
     "output_type": "stream",
     "text": [
      "{'olafscholz_26-09-2021_00_00_video7.jpeg': {'Graphical Representations': ['campaignParaphernalia'], 'Clothing': ['informalAttire'], 'Crowd': ['largeAudiences'], 'Interaction': [], 'Environment': ['identifiableEntourage']}, 'christlichsozialeunion_18-09-2021_00_00_image1.jpeg': {'Graphical Representations': ['campaignParaphernalia', 'patrioticSymbols'], 'Clothing': ['formalAttire'], 'Crowd': [], 'Interaction': [], 'Environment': ['identifiableEntourage']}, '2021-09-24_11-50-01_UTC_3.jpg': {'Graphical Representations': [], 'Clothing': ['informalAttire'], 'Crowd': ['largeAudiences'], 'Interaction': ['children'], 'Environment': ['ordinaryPeople']}, 'christianlindner_25-09-2021_00_00_video0.jpeg': {'Graphical Representations': [], 'Clothing': ['informalAttire'], 'Crowd': [], 'Interaction': ['interactionWithSupporters'], 'Environment': ['ordinaryPeople']}, '2021-09-13_19-36-55_UTC_3.jpg': {'Graphical Representations': ['campaignParaphernalia'], 'Clothing': ['informalAttire'], 'Crowd': [], 'Interaction': ['children'], 'Environment': ['identifiableEntourage', 'ordinaryPeople']}, 'olafscholz_25-09-2021_00_00_video3.jpeg': {'Graphical Representations': ['campaignParaphernalia'], 'Clothing': ['informalAttire'], 'Crowd': [], 'Interaction': [], 'Environment': []}, 'abaerbock_20-09-2021_00_00_image6.jpeg': {'Graphical Representations': [], 'Clothing': ['formalAttire'], 'Crowd': [], 'Interaction': [], 'Environment': ['identifiableEntourage']}, '2021-09-24_17-47-19_UTC_2.jpg': {'Graphical Representations': ['campaignParaphernalia'], 'Clothing': ['informalAttire'], 'Crowd': [], 'Interaction': [], 'Environment': []}, 'christianlindner_26-09-2021_00_00_image4.jpeg': {'Graphical Representations': ['campaignParaphernalia'], 'Clothing': ['formalAttire'], 'Crowd': [], 'Interaction': [], 'Environment': []}, 'armin_laschet_19-09-2021_00_00_image4.jpeg': {'Graphical Representations': ['campaignParaphernalia', 'patrioticSymbols'], 'Clothing': ['formalAttire'], 'Crowd': [], 'Interaction': ['interactionWithSupporters'], 'Environment': ['admiringPeople']}, 'olafscholz_25-09-2021_00_00_image3.jpeg': {'Graphical Representations': ['campaignParaphernalia'], 'Clothing': ['informalAttire'], 'Crowd': [], 'Interaction': [], 'Environment': []}, '2021-09-25_11-10-23_UTC.jpg': {'Graphical Representations': ['campaignParaphernalia', 'patrioticSymbols'], 'Clothing': ['informalAttire'], 'Crowd': [], 'Interaction': [], 'Environment': ['identifiableEntourage']}, '2021-09-24_14-19-26_UTC.jpg': {'Graphical Representations': ['campaignParaphernalia'], 'Clothing': ['formalAttire'], 'Crowd': [], 'Interaction': [], 'Environment': []}, '2021-09-18_14-42-04_UTC_3.jpg': {'Graphical Representations': ['campaignParaphernalia'], 'Clothing': ['informalAttire'], 'Crowd': [], 'Interaction': [], 'Environment': []}, '2021-09-18_19-12-07_UTC_4.jpg': {'Graphical Representations': ['campaignParaphernalia', 'patrioticSymbols'], 'Clothing': ['formalAttire'], 'Crowd': [], 'Interaction': ['affinityGestures'], 'Environment': ['identifiableEntourage']}, '2021-09-18_10-16-45_UTC_3.jpg': {'Graphical Representations': ['campaignParaphernalia'], 'Clothing': ['formalAttire'], 'Crowd': [], 'Interaction': ['interactionWithSupporters'], 'Environment': ['identifiableEntourage']}, 'christianlindner_25-09-2021_00_00_image5.jpeg': {'Graphical Representations': [], 'Clothing': ['formalAttire'], 'Crowd': [], 'Interaction': [], 'Environment': ['ordinaryPeople']}, 'cdu_17-09-2021_00_00_video1.jpeg': {'Graphical Representations': ['campaignParaphernalia', 'patrioticSymbols'], 'Clothing': ['formalAttire'], 'Crowd': ['largeAudiences'], 'Interaction': [], 'Environment': []}, '2021-09-25_15-05-02_UTC_3.jpg': {'Graphical Representations': ['campaignParaphernalia'], 'Clothing': ['informalAttire'], 'Crowd': [], 'Interaction': ['interactionWithSupporters'], 'Environment': ['identifiableEntourage', 'ordinaryPeople']}, 'olafscholz_24-09-2021_00_00_image1.jpeg': {'Graphical Representations': [], 'Clothing': ['formalAttire'], 'Crowd': [], 'Interaction': [], 'Environment': ['identifiableEntourage']}, '2021-09-18_13-19-15_UTC_1.jpg': {'Graphical Representations': [], 'Clothing': ['formalAttire'], 'Crowd': [], 'Interaction': ['affinityGestures'], 'Environment': []}, 'abaerbock_23-09-2021_00_00_image16.jpeg': {'Graphical Representations': ['campaignParaphernalia'], 'Clothing': ['informalAttire'], 'Crowd': ['largeAudiences'], 'Interaction': [], 'Environment': []}, 'abaerbock_14-09-2021_00_00_image14.jpeg': {'Graphical Representations': [], 'Clothing': ['informalAttire'], 'Crowd': [], 'Interaction': ['interactionWithSupporters'], 'Environment': ['ordinaryPeople']}, 'die_gruenen_13-09-2021_00_00_image4.jpeg': {'Graphical Representations': ['campaignParaphernalia', 'patrioticSymbols'], 'Clothing': ['formalAttire'], 'Crowd': [], 'Interaction': [], 'Environment': []}, '2021-09-22_13-27-13_UTC.jpg': {'Graphical Representations': [], 'Clothing': ['formalAttire'], 'Crowd': [], 'Interaction': [], 'Environment': []}, '2021-09-12_12-25-49_UTC.jpg': {'Graphical Representations': ['campaignParaphernalia'], 'Clothing': ['informalAttire'], 'Crowd': [], 'Interaction': [], 'Environment': []}, '2021-09-12_20-09-20_UTC.jpg': {'Graphical Representations': [], 'Clothing': ['formalAttire'], 'Crowd': [], 'Interaction': [], 'Environment': []}, 'christlichsozialeunion_25-09-2021_00_00_video17.jpeg': {'Graphical Representations': ['campaignParaphernalia', 'patrioticSymbols'], 'Clothing': ['informalAttire', 'formalAttire'], 'Crowd': [], 'Interaction': [], 'Environment': []}, 'cdu_23-09-2021_00_00_video5.jpeg': {'Graphical Representations': [], 'Clothing': ['formalAttire'], 'Crowd': [], 'Interaction': [], 'Environment': []}, 'christianlindner_22-09-2021_00_00_image2.jpeg': {'Graphical Representations': ['campaignParaphernalia'], 'Clothing': ['informalAttire'], 'Crowd': ['largeAudiences'], 'Interaction': [], 'Environment': []}, '2021-09-16_14-37-13_UTC.jpg': {'Graphical Representations': ['campaignParaphernalia'], 'Clothing': ['formalAttire'], 'Crowd': [], 'Interaction': [], 'Environment': []}, '2021-09-20_13-46-23_UTC_2.jpg': {'Graphical Representations': [], 'Clothing': ['informalAttire'], 'Crowd': [], 'Interaction': ['interactionWithSupporters'], 'Environment': ['ordinaryPeople']}, '2021-09-23_15-17-25_UTC.jpg': {'Graphical Representations': ['campaignParaphernalia', 'patrioticSymbols'], 'Clothing': ['formalAttire'], 'Crowd': [], 'Interaction': [], 'Environment': []}, 'armin_laschet_18-09-2021_00_00_image1.jpeg': {'Graphical Representations': ['campaignParaphernalia'], 'Clothing': ['formalAttire'], 'Crowd': [], 'Interaction': [], 'Environment': []}, 'abaerbock_22-09-2021_00_00_image5.jpeg': {'Graphical Representations': ['campaignParaphernalia'], 'Clothing': ['informalAttire'], 'Crowd': [], 'Interaction': ['physicalEmbraces'], 'Environment': ['ordinaryPeople', 'admiringPeople']}, 'abaerbock_22-09-2021_00_00_video1.jpeg': {'Graphical Representations': [], 'Clothing': ['informalAttire'], 'Crowd': [], 'Interaction': ['children'], 'Environment': ['admiringPeople']}, '2021-09-17_13-01-40_UTC.jpg': {'Graphical Representations': [], 'Clothing': ['formalAttire'], 'Crowd': [], 'Interaction': [], 'Environment': []}, '2021-09-22_09-47-57_UTC.jpg': {'Graphical Representations': [], 'Clothing': ['formalAttire'], 'Crowd': [], 'Interaction': [], 'Environment': []}, '2021-09-23_20-32-15_UTC.jpg': {'Graphical Representations': [], 'Clothing': ['formalAttire'], 'Crowd': [], 'Interaction': [], 'Environment': []}, 'christlichsozialeunion_18-09-2021_00_00_video2.jpeg': {'Graphical Representations': [], 'Clothing': ['informalAttire'], 'Crowd': [], 'Interaction': [], 'Environment': ['identifiableEntourage']}, 'christlichsozialeunion_25-09-2021_00_00_video20.jpeg': {'Graphical Representations': ['campaignParaphernalia'], 'Clothing': ['informalAttire'], 'Crowd': [], 'Interaction': [], 'Environment': ['identifiableEntourage']}, 'christlichsozialeunion_26-09-2021_00_00_image3.jpeg': {'Graphical Representations': ['campaignParaphernalia', 'patrioticSymbols'], 'Clothing': ['formalAttire'], 'Crowd': [], 'Interaction': [], 'Environment': []}, '2021-09-23_13-50-48_UTC_3.jpg': {'Graphical Representations': [], 'Clothing': ['formalAttire'], 'Crowd': [], 'Interaction': ['children'], 'Environment': ['ordinaryPeople']}, 'olafscholz_26-09-2021_00_00_image4.jpeg': {'Graphical Representations': ['campaignParaphernalia'], 'Clothing': ['informalAttire'], 'Crowd': [], 'Interaction': [], 'Environment': []}, 'cdu_19-09-2021_00_00_image3.jpeg': {'Graphical Representations': ['campaignParaphernalia', 'patrioticSymbols'], 'Clothing': ['formalAttire'], 'Crowd': [], 'Interaction': ['affinityGestures'], 'Environment': ['identifiableEntourage']}, '2021-09-13_10-08-20_UTC_2.jpg': {'Graphical Representations': [], 'Clothing': ['informalAttire'], 'Crowd': [], 'Interaction': ['children'], 'Environment': ['identifiableEntourage', 'ordinaryPeople']}, 'armin_laschet_23-09-2021_00_00_image4.jpeg': {'Graphical Representations': ['campaignParaphernalia', 'patrioticSymbols'], 'Clothing': ['formalAttire'], 'Crowd': [], 'Interaction': [], 'Environment': ['identifiableEntourage']}, '2021-09-20_16-32-49_UTC_3.jpg': {'Graphical Representations': ['campaignParaphernalia'], 'Clothing': ['informalAttire'], 'Crowd': [], 'Interaction': [], 'Environment': ['identifiableEntourage']}, 'christianlindner_17-09-2021_00_00_video1.jpeg': {'Graphical Representations': ['campaignParaphernalia'], 'Clothing': ['formalAttire'], 'Crowd': [], 'Interaction': [], 'Environment': ['identifiableEntourage']}, 'olafscholz_26-09-2021_00_00_video3.jpeg': {'Graphical Representations': [], 'Clothing': ['informalAttire'], 'Crowd': [], 'Interaction': [], 'Environment': ['ordinaryPeople']}, '2021-09-23_08-01-29_UTC.jpg': {'Graphical Representations': ['campaignParaphernalia', 'patrioticSymbols'], 'Clothing': ['formalAttire'], 'Crowd': [], 'Interaction': [], 'Environment': []}, 'olafscholz_26-09-2021_00_00_video0.jpeg': {'Graphical Representations': ['campaignParaphernalia'], 'Clothing': ['informalAttire'], 'Crowd': [], 'Interaction': [], 'Environment': ['ordinaryPeople']}, 'armin_laschet_24-09-2021_00_00_video11.jpeg': {'Graphical Representations': ['campaignParaphernalia'], 'Clothing': ['formalAttire'], 'Crowd': [], 'Interaction': [], 'Environment': []}, 'armin_laschet_24-09-2021_00_00_video6.jpeg': {'Graphical Representations': ['campaignParaphernalia', 'patrioticSymbols'], 'Clothing': ['formalAttire'], 'Crowd': [], 'Interaction': [], 'Environment': ['identifiableEntourage']}, 'armin_laschet_17-09-2021_00_00_video3.jpeg': {'Graphical Representations': ['campaignParaphernalia', 'patrioticSymbols'], 'Clothing': ['formalAttire'], 'Crowd': [], 'Interaction': [], 'Environment': []}, '2021-09-18_17-06-46_UTC_1.jpg': {'Graphical Representations': [], 'Clothing': ['formalAttire'], 'Crowd': [], 'Interaction': ['children', 'interactionWithSupporters'], 'Environment': ['ordinaryPeople']}, 'armin_laschet_18-09-2021_00_00_image4.jpeg': {'Graphical Representations': ['campaignParaphernalia', 'patrioticSymbols'], 'Clothing': ['formalAttire'], 'Crowd': [], 'Interaction': ['interactionWithSupporters'], 'Environment': ['identifiableEntourage', 'ordinaryPeople']}, '2021-09-26_08-32-39_UTC.jpg': {'Graphical Representations': ['patrioticSymbols'], 'Clothing': ['informalAttire'], 'Crowd': [], 'Interaction': ['interactionWithSupporters'], 'Environment': ['ordinaryPeople']}, '2021-09-15_11-18-08_UTC.jpg': {'Graphical Representations': [], 'Clothing': ['informalAttire'], 'Crowd': [], 'Interaction': [], 'Environment': []}, 'cdu_26-09-2021_00_00_video7.jpeg': {'Graphical Representations': ['campaignParaphernalia', 'patrioticSymbols'], 'Clothing': ['formalAttire'], 'Crowd': [], 'Interaction': [], 'Environment': ['identifiableEntourage']}, 'armin_laschet_18-09-2021_00_00_video3.jpeg': {'Graphical Representations': ['campaignParaphernalia', 'patrioticSymbols'], 'Clothing': ['formalAttire'], 'Crowd': [], 'Interaction': [], 'Environment': ['identifiableEntourage']}, 'fdp_23-09-2021_00_00_image0.jpeg': {'Graphical Representations': ['campaignParaphernalia'], 'Clothing': [], 'Crowd': ['largeAudiences'], 'Interaction': [], 'Environment': []}, '2021-09-21_15-12-47_UTC.jpg': {'Graphical Representations': ['campaignParaphernalia'], 'Clothing': ['informalAttire'], 'Crowd': [], 'Interaction': [], 'Environment': []}, 'cdu_26-09-2021_00_00_video4.jpeg': {'Graphical Representations': ['campaignParaphernalia', 'patrioticSymbols'], 'Clothing': ['informalAttire'], 'Crowd': ['largeAudiences'], 'Interaction': [], 'Environment': ['identifiableEntourage']}, 'abaerbock_13-09-2021_00_00_image2.jpeg': {'Graphical Representations': [], 'Clothing': ['formalAttire'], 'Crowd': [], 'Interaction': [], 'Environment': []}, 'olafscholz_19-09-2021_00_00_video11.jpeg': {'Graphical Representations': [], 'Clothing': ['informalAttire'], 'Crowd': [], 'Interaction': ['interactionWithSupporters'], 'Environment': ['ordinaryPeople']}, '2021-09-25_15-05-02_UTC_6.jpg': {'Graphical Representations': [], 'Clothing': ['informalAttire'], 'Crowd': [], 'Interaction': ['interactionWithSupporters'], 'Environment': ['admiringPeople']}, '2021-09-23_13-00-42_UTC.jpg': {'Graphical Representations': [], 'Clothing': ['informalAttire'], 'Crowd': [], 'Interaction': [], 'Environment': []}, '2021-09-23_08-10-17_UTC.jpg': {'Graphical Representations': [], 'Clothing': ['informalAttire'], 'Crowd': [], 'Interaction': [], 'Environment': ['identifiableEntourage']}, 'armin_laschet_17-09-2021_00_00_image2.jpeg': {'Graphical Representations': ['campaignParaphernalia'], 'Clothing': ['formalAttire'], 'Crowd': [], 'Interaction': [], 'Environment': []}, 'olafscholz_21-09-2021_00_00_video3.jpeg': {'Graphical Representations': ['campaignParaphernalia'], 'Clothing': ['informalAttire'], 'Crowd': [], 'Interaction': [], 'Environment': []}, '2021-09-19_06-23-34_UTC.jpg': {'Graphical Representations': ['campaignParaphernalia'], 'Clothing': ['formalAttire'], 'Crowd': [], 'Interaction': [], 'Environment': []}, '2021-09-15_19-36-35_UTC_9.jpg': {'Graphical Representations': ['campaignParaphernalia'], 'Clothing': ['informalAttire'], 'Crowd': [], 'Interaction': [], 'Environment': ['identifiableEntourage']}, 'abaerbock_18-09-2021_00_00_image7.jpeg': {'Graphical Representations': [], 'Clothing': ['informalAttire'], 'Crowd': [], 'Interaction': [], 'Environment': ['identifiableEntourage']}, '2021-09-24_10-51-37_UTC_2.jpg': {'Graphical Representations': ['patrioticSymbols'], 'Clothing': ['informalAttire'], 'Crowd': [], 'Interaction': ['children', 'interactionWithSupporters'], 'Environment': ['identifiableEntourage', 'ordinaryPeople']}, 'cdu_22-09-2021_00_00_image3.jpeg': {'Graphical Representations': [], 'Clothing': [], 'Crowd': ['largeAudiences'], 'Interaction': [], 'Environment': ['identifiableEntourage']}, '2021-09-18_13-19-15_UTC_2.jpg': {'Graphical Representations': [], 'Clothing': ['formalAttire'], 'Crowd': [], 'Interaction': ['affinityGestures', 'physicalEmbraces'], 'Environment': ['admiringPeople']}, 'spdde_20-09-2021_00_00_image0.jpeg': {'Graphical Representations': ['campaignParaphernalia'], 'Clothing': ['informalAttire'], 'Crowd': [], 'Interaction': [], 'Environment': []}, 'christianlindner_20-09-2021_00_00_image5.jpeg': {'Graphical Representations': ['campaignParaphernalia'], 'Clothing': ['informalAttire', 'formalAttire'], 'Crowd': [], 'Interaction': [], 'Environment': []}, '2021-09-21_20-02-32_UTC_2.jpg': {'Graphical Representations': [], 'Clothing': ['formalAttire'], 'Crowd': [], 'Interaction': [], 'Environment': []}, 'christianlindner_22-09-2021_00_00_video1.jpeg': {'Graphical Representations': [], 'Clothing': ['formalAttire'], 'Crowd': ['largeAudiences'], 'Interaction': [], 'Environment': []}, '2021-09-18_20-26-35_UTC_4.jpg': {'Graphical Representations': [], 'Clothing': ['informalAttire'], 'Crowd': [], 'Interaction': ['physicalEmbraces'], 'Environment': ['identifiableEntourage', 'ordinaryPeople']}, 'olafscholz_17-09-2021_00_00_video8.jpeg': {'Graphical Representations': ['campaignParaphernalia'], 'Clothing': ['informalAttire'], 'Crowd': [], 'Interaction': [], 'Environment': []}, 'abaerbock_14-09-2021_00_00_image9.jpeg': {'Graphical Representations': ['campaignParaphernalia'], 'Clothing': ['informalAttire'], 'Crowd': ['largeAudiences'], 'Interaction': [], 'Environment': []}, '2021-09-22_09-18-33_UTC_2.jpg': {'Graphical Representations': ['patrioticSymbols'], 'Clothing': ['formalAttire'], 'Crowd': [], 'Interaction': [], 'Environment': ['identifiableEntourage']}, 'christlichsozialeunion_25-09-2021_00_00_video14.jpeg': {'Graphical Representations': ['campaignParaphernalia', 'patrioticSymbols'], 'Clothing': ['informalAttire', 'formalAttire'], 'Crowd': ['largeAudiences'], 'Interaction': [], 'Environment': ['identifiableEntourage']}, '2021-09-18_12-22-03_UTC_3.jpg': {'Graphical Representations': ['campaignParaphernalia', 'patrioticSymbols'], 'Clothing': ['informalAttire'], 'Crowd': ['largeAudiences'], 'Interaction': [], 'Environment': ['identifiableEntourage']}, 'armin_laschet_17-09-2021_00_00_image9.jpeg': {'Graphical Representations': ['campaignParaphernalia', 'patrioticSymbols'], 'Clothing': ['formalAttire'], 'Crowd': [], 'Interaction': [], 'Environment': ['identifiableEntourage']}, 'spdde_13-09-2021_00_00_image0.jpeg': {'Graphical Representations': ['campaignParaphernalia'], 'Clothing': ['informalAttire'], 'Crowd': [], 'Interaction': [], 'Environment': []}, 'die_gruenen_26-09-2021_00_00_video2.jpeg': {'Graphical Representations': [], 'Clothing': ['informalAttire'], 'Crowd': [], 'Interaction': [], 'Environment': []}, '2021-09-14_05-32-44_UTC.jpg': {'Graphical Representations': ['campaignParaphernalia'], 'Clothing': ['informalAttire'], 'Crowd': [], 'Interaction': [], 'Environment': []}, 'die_gruenen_20-09-2021_00_00_image5.jpeg': {'Graphical Representations': ['campaignParaphernalia'], 'Clothing': ['formalAttire'], 'Crowd': [], 'Interaction': [], 'Environment': []}, 'christlichsozialeunion_21-09-2021_00_00_image0.jpeg': {'Graphical Representations': ['campaignParaphernalia'], 'Clothing': ['informalAttire'], 'Crowd': [], 'Interaction': ['children'], 'Environment': []}, '2021-09-16_16-00-56_UTC.jpg': {'Graphical Representations': ['campaignParaphernalia'], 'Clothing': ['formalAttire'], 'Crowd': [], 'Interaction': [], 'Environment': []}, 'cdu_26-09-2021_00_00_video13.jpeg': {'Graphical Representations': ['campaignParaphernalia', 'patrioticSymbols'], 'Clothing': ['informalAttire'], 'Crowd': [], 'Interaction': [], 'Environment': ['identifiableEntourage']}, 'armin_laschet_13-09-2021_00_00_video3.jpeg': {'Graphical Representations': ['campaignParaphernalia'], 'Clothing': ['formalAttire'], 'Crowd': [], 'Interaction': [], 'Environment': []}, '2021-09-17_11-45-11_UTC_1.jpg': {'Graphical Representations': [], 'Clothing': ['informalAttire'], 'Crowd': [], 'Interaction': [], 'Environment': ['ordinaryPeople']}, 'armin_laschet_13-09-2021_00_00_video2.jpeg': {'Graphical Representations': ['campaignParaphernalia', 'patrioticSymbols'], 'Clothing': ['formalAttire'], 'Crowd': [], 'Interaction': [], 'Environment': []}, '2021-09-25_07-16-11_UTC.jpg': {'Graphical Representations': [], 'Clothing': ['formalAttire'], 'Crowd': [], 'Interaction': [], 'Environment': []}, '2021-09-24_19-39-33_UTC_1.jpg': {'Graphical Representations': [], 'Clothing': ['formalAttire'], 'Crowd': [], 'Interaction': [], 'Environment': []}, '2021-09-22_12-20-14_UTC.jpg': {'Graphical Representations': ['campaignParaphernalia'], 'Clothing': ['formalAttire'], 'Crowd': [], 'Interaction': [], 'Environment': ['identifiableEntourage']}, '2021-09-16_19-01-33_UTC_2.jpg': {'Graphical Representations': ['campaignParaphernalia'], 'Clothing': ['informalAttire'], 'Crowd': [], 'Interaction': [], 'Environment': []}, 'christlichsozialeunion_24-09-2021_00_00_video11.jpeg': {'Graphical Representations': ['campaignParaphernalia'], 'Clothing': ['formalAttire'], 'Crowd': [], 'Interaction': [], 'Environment': []}, '2021-09-24_17-52-49_UTC.jpg': {'Graphical Representations': ['patrioticSymbols'], 'Clothing': ['formalAttire'], 'Crowd': [], 'Interaction': [], 'Environment': ['identifiableEntourage']}, 'olafscholz_19-09-2021_00_00_video4.jpeg': {'Graphical Representations': ['campaignParaphernalia'], 'Clothing': ['informalAttire'], 'Crowd': [], 'Interaction': ['affinityGestures'], 'Environment': []}, 'fdp_17-09-2021_00_00_image0.jpeg': {'Graphical Representations': ['campaignParaphernalia'], 'Clothing': ['formalAttire'], 'Crowd': [], 'Interaction': [], 'Environment': ['identifiableEntourage']}, 'fdp_22-09-2021_00_00_video3.jpeg': {'Graphical Representations': [], 'Clothing': ['formalAttire'], 'Crowd': ['largeAudiences'], 'Interaction': [], 'Environment': []}, 'olafscholz_22-09-2021_00_00_video8.jpeg': {'Graphical Representations': ['campaignParaphernalia'], 'Clothing': ['informalAttire'], 'Crowd': ['largeAudiences'], 'Interaction': [], 'Environment': []}, '2021-09-13_14-02-02_UTC.jpg': {'Graphical Representations': [], 'Clothing': ['formalAttire'], 'Crowd': [], 'Interaction': [], 'Environment': []}, 'armin_laschet_19-09-2021_00_00_image5.jpeg': {'Graphical Representations': ['campaignParaphernalia', 'patrioticSymbols'], 'Clothing': ['formalAttire'], 'Crowd': [], 'Interaction': ['children'], 'Environment': ['identifiableEntourage', 'ordinaryPeople']}, '2021-09-20_16-36-45_UTC.jpg': {'Graphical Representations': [], 'Clothing': ['formalAttire'], 'Crowd': [], 'Interaction': [], 'Environment': []}, 'die_gruenen_25-09-2021_00_00_image0.jpeg': {'Graphical Representations': ['campaignParaphernalia'], 'Clothing': ['informalAttire'], 'Crowd': [], 'Interaction': [], 'Environment': []}, 'armin_laschet_20-09-2021_00_00_video2.jpeg': {'Graphical Representations': ['campaignParaphernalia'], 'Clothing': ['formalAttire'], 'Crowd': [], 'Interaction': [], 'Environment': []}, 'spdde_23-09-2021_00_00_video4.jpeg': {'Graphical Representations': ['campaignParaphernalia'], 'Clothing': ['informalAttire'], 'Crowd': [], 'Interaction': [], 'Environment': []}, 'armin_laschet_20-09-2021_00_00_video5.jpeg': {'Graphical Representations': ['campaignParaphernalia'], 'Clothing': ['formalAttire'], 'Crowd': [], 'Interaction': [], 'Environment': []}, 'abaerbock_13-09-2021_00_00_video0.jpeg': {'Graphical Representations': ['campaignParaphernalia'], 'Clothing': ['informalAttire'], 'Crowd': [], 'Interaction': [], 'Environment': []}, '2021-09-25_12-43-21_UTC_6.jpg': {'Graphical Representations': ['campaignParaphernalia', 'patrioticSymbols'], 'Clothing': ['informalAttire'], 'Crowd': ['largeAudiences'], 'Interaction': [], 'Environment': ['identifiableEntourage']}, 'spdde_26-09-2021_00_00_video1.jpeg': {'Graphical Representations': [], 'Clothing': ['informalAttire'], 'Crowd': [], 'Interaction': [], 'Environment': ['identifiableEntourage']}, '2021-09-21_11-26-43_UTC_1.jpg': {'Graphical Representations': ['campaignParaphernalia'], 'Clothing': ['informalAttire'], 'Crowd': [], 'Interaction': [], 'Environment': ['identifiableEntourage']}, '2021-09-13_16-46-33_UTC.jpg': {'Graphical Representations': [], 'Clothing': ['formalAttire'], 'Crowd': [], 'Interaction': [], 'Environment': []}, '2021-09-24_10-51-37_UTC_3.jpg': {'Graphical Representations': [], 'Clothing': ['informalAttire'], 'Crowd': [], 'Interaction': [], 'Environment': []}, '2021-09-15_13-20-23_UTC_5.jpg': {'Graphical Representations': ['campaignParaphernalia'], 'Clothing': ['informalAttire'], 'Crowd': ['approvingAudiences', 'largeAudiences'], 'Interaction': [], 'Environment': ['identifiableEntourage']}, 'olafscholz_26-09-2021_00_00_image3.jpeg': {'Graphical Representations': ['campaignParaphernalia'], 'Clothing': ['informalAttire'], 'Crowd': ['largeAudiences'], 'Interaction': ['interactionWithSupporters'], 'Environment': ['identifiableEntourage', 'ordinaryPeople']}, '2021-09-25_09-13-34_UTC.jpg': {'Graphical Representations': [], 'Clothing': ['informalAttire'], 'Crowd': [], 'Interaction': [], 'Environment': []}, 'armin_laschet_20-09-2021_00_00_image0.jpeg': {'Graphical Representations': ['campaignParaphernalia'], 'Clothing': [], 'Crowd': [], 'Interaction': [], 'Environment': []}, 'armin_laschet_14-09-2021_00_00_video2.jpeg': {'Graphical Representations': [], 'Clothing': ['formalAttire'], 'Crowd': [], 'Interaction': [], 'Environment': []}, '2021-09-12_06-04-39_UTC.jpg': {'Graphical Representations': [], 'Clothing': ['informalAttire'], 'Crowd': [], 'Interaction': [], 'Environment': ['identifiableEntourage']}, 'armin_laschet_17-09-2021_00_00_image11.jpeg': {'Graphical Representations': ['campaignParaphernalia', 'patrioticSymbols'], 'Clothing': ['formalAttire'], 'Crowd': [], 'Interaction': ['interactionWithSupporters'], 'Environment': ['identifiableEntourage', 'ordinaryPeople']}, '2021-09-23_13-50-48_UTC_1.jpg': {'Graphical Representations': [], 'Clothing': ['formalAttire'], 'Crowd': ['interactionWithCrowds', 'largeAudiences'], 'Interaction': ['interactionWithSupporters'], 'Environment': ['identifiableEntourage', 'ordinaryPeople', 'admiringPeople']}, 'armin_laschet_23-09-2021_00_00_image3.jpeg': {'Graphical Representations': ['campaignParaphernalia', 'patrioticSymbols'], 'Clothing': ['formalAttire'], 'Crowd': [], 'Interaction': ['physicalEmbraces'], 'Environment': ['ordinaryPeople', 'admiringPeople']}, 'christianlindner_26-09-2021_00_00_image2.jpeg': {'Graphical Representations': ['campaignParaphernalia'], 'Clothing': ['informalAttire'], 'Crowd': ['largeAudiences'], 'Interaction': [], 'Environment': []}, '2021-09-22_05-30-15_UTC.jpg': {'Graphical Representations': ['campaignParaphernalia'], 'Clothing': ['informalAttire'], 'Crowd': [], 'Interaction': [], 'Environment': []}, 'abaerbock_21-09-2021_00_00_image10.jpeg': {'Graphical Representations': [], 'Clothing': ['informalAttire'], 'Crowd': ['largeAudiences'], 'Interaction': ['affinityGestures'], 'Environment': []}, 'cdu_13-09-2021_00_00_video6.jpeg': {'Graphical Representations': ['campaignParaphernalia', 'patrioticSymbols'], 'Clothing': ['formalAttire'], 'Crowd': [], 'Interaction': [], 'Environment': []}, 'spdde_20-09-2021_00_00_video3.jpeg': {'Graphical Representations': ['campaignParaphernalia'], 'Clothing': ['formalAttire'], 'Crowd': [], 'Interaction': [], 'Environment': []}, 'abaerbock_26-09-2021_00_00_image1.jpeg': {'Graphical Representations': ['campaignParaphernalia'], 'Clothing': ['informalAttire'], 'Crowd': [], 'Interaction': ['children', 'interactionWithSupporters'], 'Environment': ['ordinaryPeople']}, '2021-09-18_10-16-45_UTC_2.jpg': {'Graphical Representations': [], 'Clothing': ['formalAttire'], 'Crowd': [], 'Interaction': ['affinityGestures', 'interactionWithSupporters'], 'Environment': ['identifiableEntourage']}, '2021-09-24_17-27-15_UTC.jpg': {'Graphical Representations': ['campaignParaphernalia'], 'Clothing': ['informalAttire'], 'Crowd': [], 'Interaction': [], 'Environment': []}, '2021-09-18_17-06-46_UTC_9.jpg': {'Graphical Representations': [], 'Clothing': ['formalAttire'], 'Crowd': [], 'Interaction': ['children', 'interactionWithSupporters'], 'Environment': ['admiringPeople']}, 'armin_laschet_26-09-2021_00_00_image0.jpeg': {'Graphical Representations': ['campaignParaphernalia'], 'Clothing': ['formalAttire'], 'Crowd': [], 'Interaction': [], 'Environment': []}, '2021-09-25_08-37-35_UTC.jpg': {'Graphical Representations': [], 'Clothing': ['informalAttire'], 'Crowd': [], 'Interaction': [], 'Environment': []}, '2021-09-16_17-02-39_UTC_9.jpg': {'Graphical Representations': ['campaignParaphernalia', 'patrioticSymbols'], 'Clothing': ['formalAttire'], 'Crowd': [], 'Interaction': [], 'Environment': ['identifiableEntourage']}, '2021-09-14_17-51-04_UTC.jpg': {'Graphical Representations': ['campaignParaphernalia', 'patrioticSymbols'], 'Clothing': ['formalAttire'], 'Crowd': [], 'Interaction': [], 'Environment': ['identifiableEntourage']}, 'cdu_22-09-2021_00_00_video11.jpeg': {'Graphical Representations': [], 'Clothing': ['formalAttire'], 'Crowd': ['largeAudiences'], 'Interaction': ['children'], 'Environment': ['ordinaryPeople', 'admiringPeople']}, 'fdp_17-09-2021_00_00_video2.jpeg': {'Graphical Representations': ['campaignParaphernalia'], 'Clothing': ['formalAttire'], 'Crowd': [], 'Interaction': [], 'Environment': ['identifiableEntourage']}, 'die_gruenen_23-09-2021_00_00_video6.jpeg': {'Graphical Representations': ['campaignParaphernalia'], 'Clothing': ['formalAttire'], 'Crowd': [], 'Interaction': [], 'Environment': []}, '2021-09-19_15-10-45_UTC_2.jpg': {'Graphical Representations': [], 'Clothing': ['informalAttire'], 'Crowd': [], 'Interaction': [], 'Environment': ['identifiableEntourage']}, 'armin_laschet_14-09-2021_00_00_image1.jpeg': {'Graphical Representations': ['campaignParaphernalia', 'patrioticSymbols'], 'Clothing': ['informalAttire'], 'Crowd': [], 'Interaction': [], 'Environment': ['ordinaryPeople']}, '2021-09-23_19-16-58_UTC_1.jpg': {'Graphical Representations': ['campaignParaphernalia'], 'Clothing': ['informalAttire'], 'Crowd': ['largeAudiences'], 'Interaction': ['interactionWithSupporters'], 'Environment': ['identifiableEntourage']}, '2021-09-25_13-00-30_UTC.jpg': {'Graphical Representations': ['campaignParaphernalia', 'patrioticSymbols'], 'Clothing': ['formalAttire'], 'Crowd': [], 'Interaction': [], 'Environment': []}, '2021-09-21_13-39-35_UTC.jpg': {'Graphical Representations': [], 'Clothing': ['formalAttire'], 'Crowd': [], 'Interaction': [], 'Environment': []}, '2021-09-13_10-08-20_UTC_1.jpg': {'Graphical Representations': ['campaignParaphernalia'], 'Clothing': ['informalAttire'], 'Crowd': [], 'Interaction': ['interactionWithSupporters'], 'Environment': []}, 'cdu_19-09-2021_00_00_image6.jpeg': {'Graphical Representations': ['campaignParaphernalia', 'patrioticSymbols'], 'Clothing': ['formalAttire'], 'Crowd': [], 'Interaction': [], 'Environment': ['identifiableEntourage']}, 'cdu_23-09-2021_00_00_image3.jpeg': {'Graphical Representations': [], 'Clothing': ['formalAttire'], 'Crowd': [], 'Interaction': ['interactionWithSupporters'], 'Environment': ['ordinaryPeople']}, 'fdp_14-09-2021_00_00_image0.jpeg': {'Graphical Representations': ['campaignParaphernalia'], 'Clothing': ['formalAttire'], 'Crowd': [], 'Interaction': [], 'Environment': []}, 'abaerbock_18-09-2021_00_00_image11.jpeg': {'Graphical Representations': ['campaignParaphernalia'], 'Clothing': ['informalAttire'], 'Crowd': [], 'Interaction': [], 'Environment': ['identifiableEntourage']}, 'abaerbock_16-09-2021_00_00_image3.jpeg': {'Graphical Representations': ['campaignParaphernalia'], 'Clothing': ['informalAttire'], 'Crowd': [], 'Interaction': [], 'Environment': ['ordinaryPeople']}, '2021-09-24_19-39-33_UTC_3.jpg': {'Graphical Representations': ['campaignParaphernalia', 'patrioticSymbols'], 'Clothing': ['formalAttire'], 'Crowd': [], 'Interaction': [], 'Environment': []}, 'armin_laschet_17-09-2021_00_00_image7.jpeg': {'Graphical Representations': ['campaignParaphernalia', 'patrioticSymbols'], 'Clothing': ['formalAttire'], 'Crowd': ['largeAudiences'], 'Interaction': [], 'Environment': ['identifiableEntourage']}, 'abaerbock_23-09-2021_00_00_image15.jpeg': {'Graphical Representations': [], 'Clothing': ['informalAttire'], 'Crowd': ['largeAudiences'], 'Interaction': ['interactionWithSupporters'], 'Environment': ['ordinaryPeople']}, '2021-09-23_10-08-51_UTC_1.jpg': {'Graphical Representations': [], 'Clothing': ['formalAttire'], 'Crowd': [], 'Interaction': ['interactionWithSupporters'], 'Environment': ['identifiableEntourage', 'ordinaryPeople']}, 'abaerbock_22-09-2021_00_00_image1.jpeg': {'Graphical Representations': ['campaignParaphernalia'], 'Clothing': ['informalAttire'], 'Crowd': ['largeAudiences'], 'Interaction': [], 'Environment': []}, '2021-09-19_20-34-50_UTC.jpg': {'Graphical Representations': ['campaignParaphernalia'], 'Clothing': ['formalAttire'], 'Crowd': [], 'Interaction': [], 'Environment': []}, '2021-09-24_06-15-09_UTC.jpg': {'Graphical Representations': [], 'Clothing': ['formalAttire'], 'Crowd': [], 'Interaction': [], 'Environment': []}, 'fdp_20-09-2021_00_00_image7.jpeg': {'Graphical Representations': ['campaignParaphernalia'], 'Clothing': ['formalAttire'], 'Crowd': [], 'Interaction': [], 'Environment': ['identifiableEntourage']}, 'olafscholz_22-09-2021_00_00_image3.jpeg': {'Graphical Representations': ['campaignParaphernalia'], 'Clothing': ['informalAttire'], 'Crowd': [], 'Interaction': [], 'Environment': []}, 'armin_laschet_17-09-2021_00_00_video16.jpeg': {'Graphical Representations': ['campaignParaphernalia'], 'Clothing': ['formalAttire'], 'Crowd': [], 'Interaction': [], 'Environment': ['identifiableEntourage']}, 'fdp_20-09-2021_00_00_image9.jpeg': {'Graphical Representations': ['campaignParaphernalia'], 'Clothing': ['formalAttire'], 'Crowd': [], 'Interaction': [], 'Environment': []}, 'olafscholz_26-09-2021_00_00_image0.jpeg': {'Graphical Representations': ['campaignParaphernalia'], 'Clothing': ['informalAttire'], 'Crowd': [], 'Interaction': ['interactionWithSupporters', 'physicalEmbraces'], 'Environment': ['ordinaryPeople']}, 'cdu_25-09-2021_00_00_image0.jpeg': {'Graphical Representations': ['patrioticSymbols'], 'Clothing': ['formalAttire'], 'Crowd': [], 'Interaction': [], 'Environment': []}, '2021-09-21_20-02-32_UTC_4.jpg': {'Graphical Representations': ['patrioticSymbols'], 'Clothing': ['formalAttire'], 'Crowd': [], 'Interaction': [], 'Environment': ['identifiableEntourage']}, '2021-09-16_17-02-39_UTC_5.jpg': {'Graphical Representations': [], 'Clothing': ['formalAttire'], 'Crowd': ['largeAudiences'], 'Interaction': [], 'Environment': []}, '2021-09-15_08-00-34_UTC.jpg': {'Graphical Representations': ['campaignParaphernalia'], 'Clothing': ['formalAttire'], 'Crowd': [], 'Interaction': [], 'Environment': []}, 'armin_laschet_24-09-2021_00_00_image1.jpeg': {'Graphical Representations': ['campaignParaphernalia', 'patrioticSymbols'], 'Clothing': ['formalAttire'], 'Crowd': [], 'Interaction': [], 'Environment': ['identifiableEntourage']}, 'christlichsozialeunion_21-09-2021_00_00_image2.jpeg': {'Graphical Representations': [], 'Clothing': ['informalAttire'], 'Crowd': [], 'Interaction': [], 'Environment': ['identifiableEntourage']}, 'christianlindner_20-09-2021_00_00_image3.jpeg': {'Graphical Representations': ['campaignParaphernalia'], 'Clothing': ['formalAttire'], 'Crowd': ['largeAudiences'], 'Interaction': [], 'Environment': []}, 'armin_laschet_17-09-2021_00_00_video2.jpeg': {'Graphical Representations': [], 'Clothing': ['formalAttire'], 'Crowd': [], 'Interaction': [], 'Environment': []}, 'olafscholz_24-09-2021_00_00_image2.jpeg': {'Graphical Representations': [], 'Clothing': ['informalAttire'], 'Crowd': [], 'Interaction': [], 'Environment': []}, '2021-09-21_12-24-33_UTC.jpg': {'Graphical Representations': [], 'Clothing': ['informalAttire'], 'Crowd': [], 'Interaction': [], 'Environment': []}, 'abaerbock_25-09-2021_00_00_video0.jpeg': {'Graphical Representations': ['campaignParaphernalia'], 'Clothing': ['informalAttire'], 'Crowd': [], 'Interaction': ['interactionWithSupporters'], 'Environment': ['ordinaryPeople']}, 'abaerbock_21-09-2021_00_00_video0.jpeg': {'Graphical Representations': [], 'Clothing': ['informalAttire'], 'Crowd': [], 'Interaction': ['interactionWithSupporters'], 'Environment': ['ordinaryPeople']}, 'abaerbock_14-09-2021_00_00_image3.jpeg': {'Graphical Representations': ['campaignParaphernalia'], 'Clothing': ['informalAttire'], 'Crowd': [], 'Interaction': [], 'Environment': []}, 'cdu_21-09-2021_00_00_video2.jpeg': {'Graphical Representations': ['campaignParaphernalia', 'patrioticSymbols'], 'Clothing': ['formalAttire'], 'Crowd': [], 'Interaction': [], 'Environment': []}, '2021-09-24_18-00-27_UTC_2.jpg': {'Graphical Representations': ['campaignParaphernalia'], 'Clothing': ['informalAttire', 'formalAttire'], 'Crowd': [], 'Interaction': [], 'Environment': ['identifiableEntourage']}, '2021-09-14_10-00-20_UTC_5.jpg': {'Graphical Representations': ['campaignParaphernalia'], 'Clothing': ['informalAttire'], 'Crowd': ['largeAudiences'], 'Interaction': [], 'Environment': []}, 'christianlindner_20-09-2021_00_00_image1.jpeg': {'Graphical Representations': ['campaignParaphernalia'], 'Clothing': [], 'Crowd': [], 'Interaction': [], 'Environment': []}, '2021-09-20_17-17-32_UTC.jpg': {'Graphical Representations': ['campaignParaphernalia'], 'Clothing': ['formalAttire'], 'Crowd': [], 'Interaction': [], 'Environment': []}, 'abaerbock_17-09-2021_00_00_video5.jpeg': {'Graphical Representations': ['campaignParaphernalia'], 'Clothing': ['formalAttire'], 'Crowd': [], 'Interaction': [], 'Environment': []}, '2021-09-19_12-52-45_UTC.jpg': {'Graphical Representations': ['campaignParaphernalia'], 'Clothing': ['formalAttire'], 'Crowd': [], 'Interaction': [], 'Environment': []}, '2021-09-24_17-49-01_UTC_5.jpg': {'Graphical Representations': [], 'Clothing': ['informalAttire'], 'Crowd': [], 'Interaction': ['interactionWithSupporters'], 'Environment': ['admiringPeople']}, '2021-09-20_16-32-49_UTC_1.jpg': {'Graphical Representations': [], 'Clothing': ['informalAttire'], 'Crowd': [], 'Interaction': [], 'Environment': ['identifiableEntourage']}, '2021-09-24_17-11-37_UTC.jpg': {'Graphical Representations': ['campaignParaphernalia'], 'Clothing': ['informalAttire'], 'Crowd': [], 'Interaction': [], 'Environment': []}, '2021-09-24_19-39-33_UTC_4.jpg': {'Graphical Representations': ['campaignParaphernalia'], 'Clothing': ['formalAttire'], 'Crowd': [], 'Interaction': [], 'Environment': []}, '2021-09-17_19-33-56_UTC_3.jpg': {'Graphical Representations': [], 'Clothing': ['informalAttire'], 'Crowd': [], 'Interaction': ['interactionWithSupporters'], 'Environment': ['ordinaryPeople']}, '2021-09-21_14-50-34_UTC_3.jpg': {'Graphical Representations': [], 'Clothing': ['formalAttire'], 'Crowd': ['largeAudiences'], 'Interaction': [], 'Environment': ['ordinaryPeople']}, 'armin_laschet_20-09-2021_00_00_video3.jpeg': {'Graphical Representations': ['campaignParaphernalia'], 'Clothing': ['formalAttire'], 'Crowd': [], 'Interaction': [], 'Environment': []}, 'christlichsozialeunion_16-09-2021_00_00_video0.jpeg': {'Graphical Representations': ['campaignParaphernalia'], 'Clothing': ['informalAttire'], 'Crowd': [], 'Interaction': [], 'Environment': []}, '2021-09-19_18-50-21_UTC.jpg': {'Graphical Representations': ['campaignParaphernalia'], 'Clothing': ['formalAttire'], 'Crowd': [], 'Interaction': [], 'Environment': []}, '2021-09-16_15-01-25_UTC.jpg': {'Graphical Representations': ['campaignParaphernalia', 'patrioticSymbols'], 'Clothing': ['formalAttire'], 'Crowd': [], 'Interaction': [], 'Environment': []}, 'armin_laschet_18-09-2021_00_00_video2.jpeg': {'Graphical Representations': ['campaignParaphernalia', 'patrioticSymbols'], 'Clothing': ['formalAttire'], 'Crowd': [], 'Interaction': [], 'Environment': ['identifiableEntourage']}, 'cdu_26-09-2021_00_00_video11.jpeg': {'Graphical Representations': ['campaignParaphernalia'], 'Clothing': ['informalAttire'], 'Crowd': [], 'Interaction': [], 'Environment': []}, 'olafscholz_21-09-2021_00_00_image2.jpeg': {'Graphical Representations': ['campaignParaphernalia'], 'Clothing': ['informalAttire'], 'Crowd': ['approvingAudiences', 'largeAudiences'], 'Interaction': ['affinityGestures'], 'Environment': []}, 'abaerbock_20-09-2021_00_00_image0.jpeg': {'Graphical Representations': ['campaignParaphernalia'], 'Clothing': ['informalAttire'], 'Crowd': [], 'Interaction': [], 'Environment': []}, 'olafscholz_24-09-2021_00_00_image4.jpeg': {'Graphical Representations': ['campaignParaphernalia'], 'Clothing': ['informalAttire', 'formalAttire'], 'Crowd': [], 'Interaction': [], 'Environment': []}, '2021-09-20_18-06-50_UTC_1.jpg': {'Graphical Representations': ['campaignParaphernalia'], 'Clothing': ['informalAttire'], 'Crowd': ['largeAudiences'], 'Interaction': ['children', 'interactionWithSupporters'], 'Environment': ['ordinaryPeople']}, '2021-09-14_10-23-23_UTC_1.jpg': {'Graphical Representations': [], 'Clothing': ['informalAttire'], 'Crowd': [], 'Interaction': ['interactionWithSupporters'], 'Environment': ['admiringPeople']}, '2021-09-24_19-39-33_UTC_2.jpg': {'Graphical Representations': [], 'Clothing': ['formalAttire'], 'Crowd': [], 'Interaction': [], 'Environment': []}, 'fdp_25-09-2021_00_00_image0.jpeg': {'Graphical Representations': ['campaignParaphernalia'], 'Clothing': ['formalAttire'], 'Crowd': [], 'Interaction': [], 'Environment': []}, 'armin_laschet_24-09-2021_00_00_video8.jpeg': {'Graphical Representations': [], 'Clothing': ['formalAttire'], 'Crowd': [], 'Interaction': ['interactionWithSupporters'], 'Environment': ['identifiableEntourage', 'ordinaryPeople']}, '2021-09-17_12-59-07_UTC_3.jpg': {'Graphical Representations': ['campaignParaphernalia', 'patrioticSymbols'], 'Clothing': ['formalAttire'], 'Crowd': [], 'Interaction': ['interactionWithSupporters'], 'Environment': ['identifiableEntourage']}, 'cdu_25-09-2021_00_00_video9.jpeg': {'Graphical Representations': ['campaignParaphernalia'], 'Clothing': [], 'Crowd': [], 'Interaction': [], 'Environment': []}, 'olafscholz_17-09-2021_00_00_image6.jpeg': {'Graphical Representations': ['campaignParaphernalia'], 'Clothing': ['informalAttire'], 'Crowd': [], 'Interaction': [], 'Environment': []}, '2021-09-17_12-59-07_UTC_6.jpg': {'Graphical Representations': [], 'Clothing': ['formalAttire'], 'Crowd': [], 'Interaction': ['interactionWithSupporters'], 'Environment': ['ordinaryPeople']}, '2021-09-25_08-41-54_UTC.jpg': {'Graphical Representations': ['campaignParaphernalia'], 'Clothing': ['formalAttire'], 'Crowd': [], 'Interaction': [], 'Environment': []}, '2021-09-21_19-30-47_UTC_4.jpg': {'Graphical Representations': [], 'Clothing': ['formalAttire'], 'Crowd': ['approvingAudiences', 'largeAudiences'], 'Interaction': [], 'Environment': []}, '2021-09-16_17-02-39_UTC_8.jpg': {'Graphical Representations': ['campaignParaphernalia', 'patrioticSymbols'], 'Clothing': ['formalAttire'], 'Crowd': [], 'Interaction': ['affinityGestures'], 'Environment': ['identifiableEntourage']}, 'abaerbock_14-09-2021_00_00_video0.jpeg': {'Graphical Representations': ['campaignParaphernalia'], 'Clothing': ['informalAttire'], 'Crowd': [], 'Interaction': [], 'Environment': ['identifiableEntourage']}, '2021-09-24_18-27-21_UTC.jpg': {'Graphical Representations': ['campaignParaphernalia', 'patrioticSymbols'], 'Clothing': ['formalAttire'], 'Crowd': [], 'Interaction': [], 'Environment': []}, '2021-09-15_18-37-22_UTC_6.jpg': {'Graphical Representations': [], 'Clothing': ['informalAttire'], 'Crowd': ['largeAudiences'], 'Interaction': [], 'Environment': []}, '2021-09-16_07-47-54_UTC.jpg': {'Graphical Representations': ['campaignParaphernalia'], 'Clothing': ['informalAttire'], 'Crowd': ['largeAudiences'], 'Interaction': [], 'Environment': []}, '2021-09-24_13-34-04_UTC_5.jpg': {'Graphical Representations': ['campaignParaphernalia', 'patrioticSymbols'], 'Clothing': ['formalAttire'], 'Crowd': [], 'Interaction': ['affinityGestures'], 'Environment': ['identifiableEntourage']}, '2021-09-15_09-26-42_UTC_1.jpg': {'Graphical Representations': ['campaignParaphernalia'], 'Clothing': ['formalAttire'], 'Crowd': [], 'Interaction': [], 'Environment': []}, '2021-09-24_18-34-35_UTC.jpg': {'Graphical Representations': ['campaignParaphernalia'], 'Clothing': ['informalAttire'], 'Crowd': [], 'Interaction': [], 'Environment': []}, '2021-09-23_06-45-55_UTC.jpg': {'Graphical Representations': ['campaignParaphernalia', 'patrioticSymbols'], 'Clothing': ['formalAttire'], 'Crowd': [], 'Interaction': [], 'Environment': []}, '2021-09-18_19-12-07_UTC_5.jpg': {'Graphical Representations': [], 'Clothing': ['formalAttire'], 'Crowd': [], 'Interaction': ['interactionWithSupporters'], 'Environment': ['identifiableEntourage']}, '2021-09-24_20-19-17_UTC_4.jpg': {'Graphical Representations': [], 'Clothing': ['informalAttire'], 'Crowd': [], 'Interaction': [], 'Environment': []}, '2021-09-21_19-30-47_UTC_5.jpg': {'Graphical Representations': ['campaignParaphernalia'], 'Clothing': ['informalAttire'], 'Crowd': ['largeAudiences'], 'Interaction': [], 'Environment': []}, '2021-09-22_09-18-33_UTC_1.jpg': {'Graphical Representations': [], 'Clothing': ['formalAttire'], 'Crowd': [], 'Interaction': [], 'Environment': ['identifiableEntourage']}, 'cdu_20-09-2021_00_00_video21.jpeg': {'Graphical Representations': [], 'Clothing': ['formalAttire'], 'Crowd': [], 'Interaction': [], 'Environment': ['identifiableEntourage']}, '2021-09-12_10-18-41_UTC.jpg': {'Graphical Representations': ['campaignParaphernalia', 'patrioticSymbols'], 'Clothing': ['formalAttire'], 'Crowd': [], 'Interaction': [], 'Environment': []}, '2021-09-26_17-24-53_UTC_1.jpg': {'Graphical Representations': ['campaignParaphernalia'], 'Clothing': ['formalAttire'], 'Crowd': [], 'Interaction': [], 'Environment': ['identifiableEntourage']}, 'olafscholz_21-09-2021_00_00_image0.jpeg': {'Graphical Representations': ['campaignParaphernalia'], 'Clothing': ['formalAttire'], 'Crowd': [], 'Interaction': [], 'Environment': []}, '2021-09-14_07-32-45_UTC_3.jpg': {'Graphical Representations': [], 'Clothing': ['informalAttire'], 'Crowd': [], 'Interaction': ['children'], 'Environment': ['ordinaryPeople']}, 'cdu_22-09-2021_00_00_video10.jpeg': {'Graphical Representations': ['campaignParaphernalia', 'patrioticSymbols'], 'Clothing': ['formalAttire'], 'Crowd': [], 'Interaction': [], 'Environment': ['identifiableEntourage']}, '2021-09-23_12-30-11_UTC.jpg': {'Graphical Representations': ['campaignParaphernalia'], 'Clothing': ['formalAttire'], 'Crowd': [], 'Interaction': [], 'Environment': []}, '2021-09-21_05-10-21_UTC_1.jpg': {'Graphical Representations': ['campaignParaphernalia', 'patrioticSymbols'], 'Clothing': ['informalAttire'], 'Crowd': [], 'Interaction': [], 'Environment': ['identifiableEntourage']}, 'olafscholz_25-09-2021_00_00_image2.jpeg': {'Graphical Representations': ['campaignParaphernalia'], 'Clothing': ['informalAttire'], 'Crowd': ['largeAudiences'], 'Interaction': [], 'Environment': []}, '2021-09-24_16-22-56_UTC.jpg': {'Graphical Representations': ['campaignParaphernalia'], 'Clothing': ['informalAttire'], 'Crowd': [], 'Interaction': [], 'Environment': []}, 'olafscholz_22-09-2021_00_00_image2.jpeg': {'Graphical Representations': ['campaignParaphernalia'], 'Clothing': ['informalAttire'], 'Crowd': [], 'Interaction': ['interactionWithSupporters'], 'Environment': []}, 'cdu_13-09-2021_00_00_video0.jpeg': {'Graphical Representations': ['campaignParaphernalia', 'patrioticSymbols'], 'Clothing': ['formalAttire'], 'Crowd': [], 'Interaction': [], 'Environment': []}, '2021-09-17_10-42-46_UTC_1.jpg': {'Graphical Representations': ['campaignParaphernalia'], 'Clothing': ['informalAttire'], 'Crowd': [], 'Interaction': ['interactionWithSupporters'], 'Environment': ['admiringPeople']}, '2021-09-18_17-06-46_UTC_6.jpg': {'Graphical Representations': [], 'Clothing': ['formalAttire'], 'Crowd': ['largeAudiences'], 'Interaction': [], 'Environment': ['identifiableEntourage']}, 'olafscholz_17-09-2021_00_00_video10.jpeg': {'Graphical Representations': [], 'Clothing': ['informalAttire'], 'Crowd': [], 'Interaction': ['interactionWithSupporters'], 'Environment': ['identifiableEntourage']}, 'die_gruenen_13-09-2021_00_00_image2.jpeg': {'Graphical Representations': ['campaignParaphernalia'], 'Clothing': ['formalAttire'], 'Crowd': [], 'Interaction': [], 'Environment': []}, '2021-09-17_14-14-38_UTC_1.jpg': {'Graphical Representations': [], 'Clothing': ['informalAttire'], 'Crowd': [], 'Interaction': [], 'Environment': ['identifiableEntourage']}, '2021-09-12_19-26-11_UTC.jpg': {'Graphical Representations': ['campaignParaphernalia'], 'Clothing': ['formalAttire'], 'Crowd': [], 'Interaction': [], 'Environment': []}, '2021-09-17_15-29-38_UTC_2.jpg': {'Graphical Representations': [], 'Clothing': ['informalAttire'], 'Crowd': [], 'Interaction': [], 'Environment': ['identifiableEntourage']}, 'olafscholz_17-09-2021_00_00_video1.jpeg': {'Graphical Representations': [], 'Clothing': ['informalAttire'], 'Crowd': [], 'Interaction': [], 'Environment': ['identifiableEntourage']}, '2021-09-24_07-02-09_UTC.jpg': {'Graphical Representations': ['campaignParaphernalia'], 'Clothing': ['formalAttire'], 'Crowd': [], 'Interaction': [], 'Environment': []}, '2021-09-21_11-03-21_UTC_1.jpg': {'Graphical Representations': ['campaignParaphernalia', 'patrioticSymbols'], 'Clothing': ['formalAttire'], 'Crowd': [], 'Interaction': [], 'Environment': []}, 'christianlindner_25-09-2021_00_00_image2.jpeg': {'Graphical Representations': [], 'Clothing': ['formalAttire'], 'Crowd': [], 'Interaction': [], 'Environment': ['ordinaryPeople']}, 'cdu_25-09-2021_00_00_video10.jpeg': {'Graphical Representations': ['campaignParaphernalia'], 'Clothing': ['formalAttire'], 'Crowd': [], 'Interaction': [], 'Environment': []}, 'abaerbock_21-09-2021_00_00_image0.jpeg': {'Graphical Representations': ['campaignParaphernalia'], 'Clothing': ['informalAttire'], 'Crowd': [], 'Interaction': ['interactionWithSupporters'], 'Environment': ['ordinaryPeople']}, 'olafscholz_18-09-2021_00_00_video3.jpeg': {'Graphical Representations': [], 'Clothing': ['informalAttire'], 'Crowd': [], 'Interaction': [], 'Environment': ['identifiableEntourage']}, '2021-09-18_12-09-36_UTC.jpg': {'Graphical Representations': [], 'Clothing': ['informalAttire'], 'Crowd': [], 'Interaction': [], 'Environment': []}, 'spdde_26-09-2021_00_00_video15.jpeg': {'Graphical Representations': ['campaignParaphernalia'], 'Clothing': ['formalAttire'], 'Crowd': [], 'Interaction': [], 'Environment': []}, 'armin_laschet_25-09-2021_00_00_video4.jpeg': {'Graphical Representations': ['campaignParaphernalia', 'patrioticSymbols'], 'Clothing': ['formalAttire'], 'Crowd': [], 'Interaction': [], 'Environment': []}, 'cdu_22-09-2021_00_00_video1.jpeg': {'Graphical Representations': ['campaignParaphernalia'], 'Clothing': [], 'Crowd': [], 'Interaction': [], 'Environment': ['identifiableEntourage']}, '2021-09-24_19-39-33_UTC_10.jpg': {'Graphical Representations': [], 'Clothing': ['formalAttire'], 'Crowd': [], 'Interaction': ['affinityGestures'], 'Environment': []}, 'armin_laschet_23-09-2021_00_00_video14.jpeg': {'Graphical Representations': ['campaignParaphernalia', 'patrioticSymbols'], 'Clothing': ['formalAttire'], 'Crowd': [], 'Interaction': [], 'Environment': ['identifiableEntourage']}, 'olafscholz_24-09-2021_00_00_image3.jpeg': {'Graphical Representations': [], 'Clothing': ['informalAttire'], 'Crowd': [], 'Interaction': ['interactionWithSupporters'], 'Environment': ['ordinaryPeople']}, 'abaerbock_22-09-2021_00_00_image14.jpeg': {'Graphical Representations': ['campaignParaphernalia'], 'Clothing': ['informalAttire'], 'Crowd': [], 'Interaction': [], 'Environment': ['identifiableEntourage']}, '2021-09-17_18-25-15_UTC_1.jpg': {'Graphical Representations': ['campaignParaphernalia'], 'Clothing': ['informalAttire'], 'Crowd': [], 'Interaction': [], 'Environment': []}, 'olafscholz_19-09-2021_00_00_video6.jpeg': {'Graphical Representations': ['campaignParaphernalia'], 'Clothing': ['informalAttire'], 'Crowd': [], 'Interaction': [], 'Environment': ['identifiableEntourage']}, '2021-09-23_09-38-13_UTC.jpg': {'Graphical Representations': [], 'Clothing': ['informalAttire'], 'Crowd': ['largeAudiences'], 'Interaction': [], 'Environment': []}, 'olafscholz_22-09-2021_00_00_video9.jpeg': {'Graphical Representations': ['campaignParaphernalia'], 'Clothing': ['informalAttire'], 'Crowd': [], 'Interaction': [], 'Environment': ['identifiableEntourage']}, '2021-09-17_13-41-38_UTC.jpg': {'Graphical Representations': ['campaignParaphernalia', 'patrioticSymbols'], 'Clothing': ['formalAttire'], 'Crowd': [], 'Interaction': [], 'Environment': ['identifiableEntourage']}, '2021-09-23_13-15-04_UTC.jpg': {'Graphical Representations': ['campaignParaphernalia'], 'Clothing': ['formalAttire'], 'Crowd': [], 'Interaction': [], 'Environment': []}, 'armin_laschet_22-09-2021_00_00_video11.jpeg': {'Graphical Representations': ['campaignParaphernalia', 'patrioticSymbols'], 'Clothing': ['formalAttire'], 'Crowd': [], 'Interaction': [], 'Environment': ['identifiableEntourage']}, '2021-09-15_18-37-22_UTC_3.jpg': {'Graphical Representations': [], 'Clothing': ['informalAttire'], 'Crowd': [], 'Interaction': [], 'Environment': ['identifiableEntourage']}, 'armin_laschet_13-09-2021_00_00_image2.jpeg': {'Graphical Representations': ['campaignParaphernalia', 'patrioticSymbols'], 'Clothing': ['formalAttire'], 'Crowd': [], 'Interaction': [], 'Environment': []}, '2021-09-20_18-06-50_UTC_3.jpg': {'Graphical Representations': ['campaignParaphernalia'], 'Clothing': ['informalAttire'], 'Crowd': [], 'Interaction': [], 'Environment': ['admiringPeople']}, 'die_gruenen_20-09-2021_00_00_video0.jpeg': {'Graphical Representations': ['campaignParaphernalia'], 'Clothing': ['formalAttire'], 'Crowd': [], 'Interaction': [], 'Environment': []}, 'armin_laschet_22-09-2021_00_00_video12.jpeg': {'Graphical Representations': ['campaignParaphernalia', 'patrioticSymbols'], 'Clothing': ['formalAttire'], 'Crowd': ['largeAudiences'], 'Interaction': ['children'], 'Environment': ['ordinaryPeople']}, '2021-09-17_19-48-04_UTC_1.jpg': {'Graphical Representations': [], 'Clothing': ['informalAttire'], 'Crowd': ['largeAudiences'], 'Interaction': [], 'Environment': []}, '2021-09-21_11-34-09_UTC_3.jpg': {'Graphical Representations': [], 'Clothing': ['informalAttire'], 'Crowd': [], 'Interaction': ['interactionWithSupporters'], 'Environment': ['ordinaryPeople']}, 'abaerbock_23-09-2021_00_00_image0.jpeg': {'Graphical Representations': [], 'Clothing': ['formalAttire'], 'Crowd': [], 'Interaction': [], 'Environment': []}, 'die_gruenen_13-09-2021_00_00_video5.jpeg': {'Graphical Representations': [], 'Clothing': ['formalAttire'], 'Crowd': [], 'Interaction': [], 'Environment': ['identifiableEntourage']}, 'spdde_20-09-2021_00_00_video6.jpeg': {'Graphical Representations': ['campaignParaphernalia'], 'Clothing': ['formalAttire'], 'Crowd': [], 'Interaction': [], 'Environment': []}, 'abaerbock_25-09-2021_00_00_video2.jpeg': {'Graphical Representations': [], 'Clothing': ['informalAttire'], 'Crowd': [], 'Interaction': [], 'Environment': ['identifiableEntourage']}, 'cdu_18-09-2021_00_00_image2.jpeg': {'Graphical Representations': ['campaignParaphernalia'], 'Clothing': ['formalAttire'], 'Crowd': [], 'Interaction': [], 'Environment': ['identifiableEntourage']}, '2021-09-24_15-48-03_UTC_2.jpg': {'Graphical Representations': ['campaignParaphernalia', 'patrioticSymbols'], 'Clothing': ['informalAttire', 'formalAttire'], 'Crowd': [], 'Interaction': [], 'Environment': []}, '2021-09-21_05-10-21_UTC_4.jpg': {'Graphical Representations': [], 'Clothing': ['informalAttire'], 'Crowd': [], 'Interaction': ['interactionWithSupporters'], 'Environment': ['identifiableEntourage']}, 'armin_laschet_19-09-2021_00_00_image7.jpeg': {'Graphical Representations': ['campaignParaphernalia', 'patrioticSymbols'], 'Clothing': ['formalAttire'], 'Crowd': [], 'Interaction': [], 'Environment': ['identifiableEntourage']}, 'olafscholz_19-09-2021_00_00_image1.jpeg': {'Graphical Representations': [], 'Clothing': ['informalAttire'], 'Crowd': [], 'Interaction': ['interactionWithSupporters'], 'Environment': ['identifiableEntourage', 'ordinaryPeople']}, 'armin_laschet_26-09-2021_00_00_video9.jpeg': {'Graphical Representations': ['campaignParaphernalia'], 'Clothing': ['informalAttire'], 'Crowd': [], 'Interaction': [], 'Environment': ['identifiableEntourage']}, 'christlichsozialeunion_16-09-2021_00_00_video16.jpeg': {'Graphical Representations': ['campaignParaphernalia'], 'Clothing': ['informalAttire'], 'Crowd': [], 'Interaction': [], 'Environment': ['identifiableEntourage']}, 'armin_laschet_25-09-2021_00_00_image0.jpeg': {'Graphical Representations': ['campaignParaphernalia', 'patrioticSymbols'], 'Clothing': ['informalAttire'], 'Crowd': [], 'Interaction': [], 'Environment': []}, '2021-09-12_20-45-47_UTC.jpg': {'Graphical Representations': [], 'Clothing': ['formalAttire'], 'Crowd': [], 'Interaction': [], 'Environment': []}, '2021-09-21_11-26-43_UTC_2.jpg': {'Graphical Representations': ['campaignParaphernalia'], 'Clothing': ['informalAttire'], 'Crowd': [], 'Interaction': [], 'Environment': ['identifiableEntourage']}, 'olafscholz_23-09-2021_00_00_image4.jpeg': {'Graphical Representations': ['campaignParaphernalia'], 'Clothing': ['informalAttire'], 'Crowd': [], 'Interaction': [], 'Environment': []}, '2021-09-25_06-30-26_UTC.jpg': {'Graphical Representations': [], 'Clothing': ['informalAttire'], 'Crowd': [], 'Interaction': [], 'Environment': ['identifiableEntourage', 'ordinaryPeople']}, 'armin_laschet_23-09-2021_00_00_video16.jpeg': {'Graphical Representations': ['campaignParaphernalia', 'patrioticSymbols'], 'Clothing': ['formalAttire'], 'Crowd': [], 'Interaction': [], 'Environment': ['identifiableEntourage']}, '2021-09-16_17-02-39_UTC_3.jpg': {'Graphical Representations': ['campaignParaphernalia', 'patrioticSymbols'], 'Clothing': ['formalAttire'], 'Crowd': [], 'Interaction': [], 'Environment': ['identifiableEntourage', 'ordinaryPeople']}, 'christianlindner_22-09-2021_00_00_image1.jpeg': {'Graphical Representations': [], 'Clothing': ['formalAttire'], 'Crowd': [], 'Interaction': [], 'Environment': []}, '2021-09-26_05-00-58_UTC.jpg': {'Graphical Representations': ['campaignParaphernalia', 'patrioticSymbols'], 'Clothing': ['formalAttire'], 'Crowd': [], 'Interaction': [], 'Environment': []}, 'olafscholz_26-09-2021_00_00_image1.jpeg': {'Graphical Representations': [], 'Clothing': ['informalAttire'], 'Crowd': [], 'Interaction': ['children', 'interactionWithSupporters'], 'Environment': ['identifiableEntourage', 'ordinaryPeople']}, '2021-09-18_13-19-15_UTC_8.jpg': {'Graphical Representations': [], 'Clothing': ['formalAttire'], 'Crowd': [], 'Interaction': ['physicalEmbraces'], 'Environment': ['ordinaryPeople']}, 'abaerbock_17-09-2021_00_00_image3.jpeg': {'Graphical Representations': ['campaignParaphernalia'], 'Clothing': ['formalAttire'], 'Crowd': [], 'Interaction': [], 'Environment': []}, '2021-09-26_19-11-44_UTC.jpg': {'Graphical Representations': ['campaignParaphernalia'], 'Clothing': ['formalAttire'], 'Crowd': [], 'Interaction': [], 'Environment': []}, 'armin_laschet_24-09-2021_00_00_image0.jpeg': {'Graphical Representations': ['campaignParaphernalia', 'patrioticSymbols'], 'Clothing': ['informalAttire'], 'Crowd': [], 'Interaction': [], 'Environment': []}, 'olafscholz_20-09-2021_00_00_image2.jpeg': {'Graphical Representations': ['campaignParaphernalia'], 'Clothing': ['informalAttire'], 'Crowd': [], 'Interaction': [], 'Environment': []}, '2021-09-25_13-50-24_UTC_4.jpg': {'Graphical Representations': [], 'Clothing': ['informalAttire'], 'Crowd': [], 'Interaction': ['physicalEmbraces'], 'Environment': ['identifiableEntourage']}, 'cdu_22-09-2021_00_00_video3.jpeg': {'Graphical Representations': [], 'Clothing': ['formalAttire'], 'Crowd': ['largeAudiences'], 'Interaction': ['interactionWithSupporters'], 'Environment': ['identifiableEntourage', 'ordinaryPeople']}, '2021-09-26_10-50-55_UTC_5.jpg': {'Graphical Representations': [], 'Clothing': ['formalAttire'], 'Crowd': ['largeAudiences'], 'Interaction': [], 'Environment': []}, 'cdu_17-09-2021_00_00_image2.jpeg': {'Graphical Representations': ['campaignParaphernalia', 'patrioticSymbols'], 'Clothing': ['formalAttire'], 'Crowd': ['largeAudiences'], 'Interaction': [], 'Environment': ['ordinaryPeople']}, '2021-09-26_10-50-55_UTC_4.jpg': {'Graphical Representations': [], 'Clothing': ['formalAttire'], 'Crowd': [], 'Interaction': ['interactionWithSupporters'], 'Environment': ['admiringPeople']}, '2021-09-19_10-53-20_UTC_1.jpg': {'Graphical Representations': [], 'Clothing': ['informalAttire'], 'Crowd': [], 'Interaction': [], 'Environment': ['identifiableEntourage']}}\n"
     ]
    }
   ],
   "source": [
    "print(all_image_annotations)\n"
   ]
  },
  {
   "cell_type": "code",
   "execution_count": 31,
   "metadata": {},
   "outputs": [
    {
     "name": "stdout",
     "output_type": "stream",
     "text": [
      "Erste JSON-Datei gespeichert: new_versions_json\\all_labels.json\n"
     ]
    }
   ],
   "source": [
    "# Zelle 5: Erstellen und Speichern der ersten JSON-Datei (Alle Labels)\n",
    "def create_first_json(annotations):\n",
    "    \"\"\"Erstellt das erste JSON-Format mit allen Labels\"\"\"\n",
    "    result = {}\n",
    "    \n",
    "    for image_name, projects in annotations.items():\n",
    "        # Alle Labels aus allen Projekten zusammenführen\n",
    "        all_labels = []\n",
    "        for project_name, labels in projects.items():\n",
    "            all_labels.extend(labels)\n",
    "        \n",
    "        # Duplikate entfernen\n",
    "        all_labels = list(set(all_labels))\n",
    "        \n",
    "        # Zum Ergebnis hinzufügen\n",
    "        result[image_name] = all_labels\n",
    "    \n",
    "    return result\n",
    "\n",
    "# Erstellen und Speichern der ersten JSON-Datei\n",
    "first_json = create_first_json(all_image_annotations)\n",
    "first_json_path = os.path.join(output_dir, \"all_labels.json\")\n",
    "with open(first_json_path, 'w', encoding='utf-8') as f:\n",
    "    json.dump(first_json, f, indent=2)\n",
    "\n",
    "print(f\"Erste JSON-Datei gespeichert: {first_json_path}\")\n"
   ]
  },
  {
   "cell_type": "code",
   "execution_count": 32,
   "metadata": {},
   "outputs": [],
   "source": [
    "# Zelle 6: Definition der übergeordneten Kategorien\n",
    "category_mapping = {\n",
    "    \"Statesmanship\": [\n",
    "        \"campaignParaphernalia\",\n",
    "        \"patrioticSymbols\",\n",
    "        \"formalAttire\",\n",
    "        \"identifiableEntourage\",\n",
    "    ],\n",
    "    \"Compassion\": [\n",
    "        \"interactionWithSupporters\",\n",
    "        \"physicalEmbraces\",\n",
    "        \"affinityGestures\",\n",
    "        \"children\",\n",
    "        \"admiringPeople\",\n",
    "    ],\n",
    "    \"MassAppeal\": [\"largeAudiences\", \"approvingAudiences\", \"interactionWithCrowds\"],\n",
    "    \"Ordinariness\": [\"informalAttire\", \"ordinaryPeople\"],\n",
    "}\n",
    "\n",
    "# Umgekehrtes Mapping für einfacheren Zugriff\n",
    "label_to_category = {}\n",
    "for category, labels in category_mapping.items():\n",
    "    for label in labels:\n",
    "        label_to_category[label] = category\n"
   ]
  },
  {
   "cell_type": "code",
   "execution_count": 33,
   "metadata": {},
   "outputs": [
    {
     "name": "stdout",
     "output_type": "stream",
     "text": [
      "Zweite JSON-Datei gespeichert: new_versions_json\\category_labels.json\n"
     ]
    }
   ],
   "source": [
    "# Zelle 7: Erstellen und Speichern der zweiten JSON-Datei (Kategorien)\n",
    "def create_category_json(annotations, label_to_category):\n",
    "    \"\"\"Erstellt das zweite JSON-Format mit den übergeordneten Kategorien\"\"\"\n",
    "    result = {}\n",
    "\n",
    "    for image_name, projects in annotations.items():\n",
    "        # Alle Labels aus allen Projekten zusammenführen\n",
    "        all_labels = []\n",
    "        for project_name, labels in projects.items():\n",
    "            all_labels.extend(labels)\n",
    "\n",
    "        # Auf Kategorien mappen\n",
    "        categories = set()\n",
    "        for label in all_labels:\n",
    "            if label in label_to_category:\n",
    "                categories.add(label_to_category[label])\n",
    "\n",
    "        # Zum Ergebnis hinzufügen\n",
    "        result[image_name] = list(categories)\n",
    "\n",
    "    return result\n",
    "\n",
    "\n",
    "# Erstellen und Speichern der zweiten JSON-Datei\n",
    "category_json = create_category_json(all_image_annotations, label_to_category)\n",
    "category_json_path = os.path.join(output_dir, \"category_labels.json\")\n",
    "with open(category_json_path, \"w\", encoding=\"utf-8\") as f:\n",
    "    json.dump(category_json, f, indent=2)\n",
    "\n",
    "print(f\"Zweite JSON-Datei gespeichert: {category_json_path}\")\n"
   ]
  },
  {
   "cell_type": "code",
   "execution_count": 34,
   "metadata": {},
   "outputs": [
    {
     "name": "stdout",
     "output_type": "stream",
     "text": [
      "Dritte JSON-Datei gespeichert: new_versions_json\\excluded_labels_1.json\n"
     ]
    }
   ],
   "source": [
    "# Zelle 8: Erstellen und Speichern der dritten JSON-Datei (Ausschluss bestimmter Labels)\n",
    "def create_excluded_json(annotations, excluded_labels):\n",
    "    \"\"\"Erstellt das dritte JSON-Format mit Ausschluss bestimmter Labels\"\"\"\n",
    "    result = {}\n",
    "\n",
    "    for image_name, projects in annotations.items():\n",
    "        # Alle Labels aus allen Projekten zusammenführen\n",
    "        all_labels = []\n",
    "        for project_name, labels in projects.items():\n",
    "            all_labels.extend(labels)\n",
    "\n",
    "        # Ausgeschlossene Labels entfernen\n",
    "        filtered_labels = [\n",
    "            label for label in all_labels if label not in excluded_labels\n",
    "        ]\n",
    "\n",
    "        # Zum Ergebnis hinzufügen\n",
    "        result[image_name] = filtered_labels\n",
    "\n",
    "    return result\n",
    "\n",
    "\n",
    "# Definition der auszuschließenden Labels für die dritte JSON\n",
    "excluded_labels_1 = [\"approvingAudiences\", \"admiringPeople\", \"no_features\"]\n",
    "\n",
    "# Erstellen und Speichern der dritten JSON-Datei\n",
    "excluded_json_1 = create_excluded_json(all_image_annotations, excluded_labels_1)\n",
    "excluded_json_1_path = os.path.join(output_dir, \"excluded_labels_1.json\")\n",
    "with open(excluded_json_1_path, \"w\", encoding=\"utf-8\") as f:\n",
    "    json.dump(excluded_json_1, f, indent=2)\n",
    "\n",
    "print(f\"Dritte JSON-Datei gespeichert: {excluded_json_1_path}\")\n"
   ]
  },
  {
   "cell_type": "code",
   "execution_count": 35,
   "metadata": {},
   "outputs": [
    {
     "name": "stdout",
     "output_type": "stream",
     "text": [
      "Vierte JSON-Datei gespeichert: new_versions_json\\excluded_labels_2.json\n"
     ]
    }
   ],
   "source": [
    "# Zelle 9: Erstellen und Speichern der vierten JSON-Datei (Erweiterter Ausschluss)\n",
    "# Definition der auszuschließenden Labels für die vierte JSON\n",
    "excluded_labels_2 = [\n",
    "    \"approvingAudiences\",\n",
    "    \"admiringPeople\",\n",
    "    \"no_features\",\n",
    "    \"interactionWithCrowds\",  # Korrigiert von \"interactionWithCrowd\"\n",
    "    \"ordinaryPeople\",\n",
    "    \"affinityGestures\",\n",
    "]\n",
    "\n",
    "# Erstellen und Speichern der vierten JSON-Datei\n",
    "excluded_json_2 = create_excluded_json(all_image_annotations, excluded_labels_2)\n",
    "excluded_json_2_path = os.path.join(output_dir, \"excluded_labels_2.json\")\n",
    "with open(excluded_json_2_path, \"w\", encoding=\"utf-8\") as f:\n",
    "    json.dump(excluded_json_2, f, indent=2)\n",
    "\n",
    "print(f\"Vierte JSON-Datei gespeichert: {excluded_json_2_path}\")\n"
   ]
  },
  {
   "cell_type": "code",
   "execution_count": 36,
   "metadata": {},
   "outputs": [
    {
     "name": "stdout",
     "output_type": "stream",
     "text": [
      "\n",
      "Alle Labels:\n",
      "  Anzahl der Bilder: 308\n",
      "  Beispiel-Bild: olafscholz_26-09-2021_00_00_video7.jpeg\n",
      "  Beispiel-Labels: ['campaignParaphernalia', 'largeAudiences', 'informalAttire', 'identifiableEntourage']\n",
      "\n",
      "Kategorien:\n",
      "  Anzahl der Bilder: 308\n",
      "  Beispiel-Bild: olafscholz_26-09-2021_00_00_video7.jpeg\n",
      "  Beispiel-Labels: ['Ordinariness', 'Statesmanship', 'MassAppeal']\n",
      "\n",
      "Ausgeschlossene Labels 1:\n",
      "  Anzahl der Bilder: 308\n",
      "  Beispiel-Bild: olafscholz_26-09-2021_00_00_video7.jpeg\n",
      "  Beispiel-Labels: ['campaignParaphernalia', 'informalAttire', 'largeAudiences', 'identifiableEntourage']\n",
      "\n",
      "Ausgeschlossene Labels 2:\n",
      "  Anzahl der Bilder: 308\n",
      "  Beispiel-Bild: olafscholz_26-09-2021_00_00_video7.jpeg\n",
      "  Beispiel-Labels: ['campaignParaphernalia', 'informalAttire', 'largeAudiences', 'identifiableEntourage']\n"
     ]
    }
   ],
   "source": [
    "# Zelle 10: Überprüfung und Zusammenfassung der erstellten Dateien\n",
    "def summarize_json_file(file_path):\n",
    "    \"\"\"Gibt eine Zusammenfassung einer JSON-Datei zurück\"\"\"\n",
    "    with open(file_path, \"r\", encoding=\"utf-8\") as f:\n",
    "        data = json.load(f)\n",
    "\n",
    "    num_images = len(data)\n",
    "    sample_image = next(iter(data))\n",
    "    sample_labels = data[sample_image]\n",
    "\n",
    "    return {\n",
    "        \"Anzahl der Bilder\": num_images,\n",
    "        \"Beispiel-Bild\": sample_image,\n",
    "        \"Beispiel-Labels\": sample_labels,\n",
    "    }\n",
    "\n",
    "\n",
    "# Zusammenfassung aller erstellten Dateien ausgeben\n",
    "output_files = [\n",
    "    (\"Alle Labels\", first_json_path),\n",
    "    (\"Kategorien\", category_json_path),\n",
    "    (\"Ausgeschlossene Labels 1\", excluded_json_1_path),\n",
    "    (\"Ausgeschlossene Labels 2\", excluded_json_2_path),\n",
    "]\n",
    "\n",
    "for name, path in output_files:\n",
    "    summary = summarize_json_file(path)\n",
    "    print(f\"\\n{name}:\")\n",
    "    print(f\"  Anzahl der Bilder: {summary['Anzahl der Bilder']}\")\n",
    "    print(f\"  Beispiel-Bild: {summary['Beispiel-Bild']}\")\n",
    "    print(f\"  Beispiel-Labels: {summary['Beispiel-Labels']}\")\n"
   ]
  }
 ],
 "metadata": {
  "kernelspec": {
   "display_name": "Python 3",
   "language": "python",
   "name": "python3"
  },
  "language_info": {
   "codemirror_mode": {
    "name": "ipython",
    "version": 3
   },
   "file_extension": ".py",
   "mimetype": "text/x-python",
   "name": "python",
   "nbconvert_exporter": "python",
   "pygments_lexer": "ipython3",
   "version": "3.13.2"
  }
 },
 "nbformat": 4,
 "nbformat_minor": 2
}
